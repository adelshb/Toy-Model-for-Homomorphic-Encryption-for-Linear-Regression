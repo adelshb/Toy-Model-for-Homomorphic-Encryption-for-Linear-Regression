{
 "cells": [
  {
   "cell_type": "code",
   "execution_count": 1,
   "metadata": {},
   "outputs": [],
   "source": [
    "import numpy as np\n",
    "import matplotlib.pyplot as plt\n",
    "from scipy.stats import ortho_group \n",
    "\n",
    "from sklearn.model_selection import train_test_split\n",
    "from sklearn.metrics import r2_score\n",
    "from sklearn import linear_model"
   ]
  },
  {
   "cell_type": "code",
   "execution_count": 2,
   "metadata": {},
   "outputs": [],
   "source": [
    "# m number of data points\n",
    "# n number of features\n",
    "m = 500\n",
    "n = 10"
   ]
  },
  {
   "cell_type": "markdown",
   "metadata": {},
   "source": [
    "## Homomorphic Encryption"
   ]
  },
  {
   "cell_type": "code",
   "execution_count": 3,
   "metadata": {},
   "outputs": [],
   "source": [
    "def homomorphic_encryption(X,y):\n",
    "    # U1 is an orthogonal matrix\n",
    "    U1 = ortho_group.rvs(dim=X.shape[0])\n",
    "    \n",
    "    # U2 is an invertible matrix\n",
    "    if X.shape[1] > 1:\n",
    "        U2 = ortho_group.rvs(dim=X.shape[1])\n",
    "    else:\n",
    "        U2 = np.random.rand(1,1)\n",
    "    \n",
    "    X_enc = U1.dot(X).dot(U2)\n",
    "    y_enc = U1.dot(y)\n",
    "    \n",
    "    return [X_enc,y_enc,U1,U2]"
   ]
  },
  {
   "cell_type": "code",
   "execution_count": 4,
   "metadata": {},
   "outputs": [],
   "source": [
    "def homomorphic_decryption(X,y,U1,U2):\n",
    "    \n",
    "    X_dec = U1.T.dot(X).dot(np.linalg.inv(U2))\n",
    "    y_dec = U1.T.dot(y)\n",
    "    \n",
    "    return [X_dec,y_dec]"
   ]
  },
  {
   "cell_type": "markdown",
   "metadata": {},
   "source": [
    "## Generate Data"
   ]
  },
  {
   "cell_type": "code",
   "execution_count": 5,
   "metadata": {},
   "outputs": [],
   "source": [
    "def generate_1d_dataset(m, n, factor=2.0):\n",
    "    X = np.matrix(np.expand_dims(np.arange(m), 1))\n",
    "    y = X + np.random.random((m, n)) * factor\n",
    "\n",
    "    return train_test_split(X, y, test_size=0.5, random_state=42)"
   ]
  },
  {
   "cell_type": "code",
   "execution_count": 6,
   "metadata": {},
   "outputs": [
    {
     "data": {
      "image/png": "[encoded data removed]",
      "text/plain": [
       "<matplotlib.figure.Figure at 0x10da899e8>"
      ]
     },
     "metadata": {},
     "output_type": "display_data"
    }
   ],
   "source": [
    "X_train, X_test, y_train, y_test = generate_1d_dataset(m, n, factor=10.0)\n",
    "plt.scatter(X_train.T.tolist()[0], y_train.T.tolist()[0], label=\"train\")\n",
    "plt.scatter(X_test.T.tolist()[0], y_test.T.tolist()[0], label=\"test\")\n",
    "plt.ylabel(\"X\")\n",
    "plt.ylabel(\"y\")\n",
    "plt.legend()\n",
    "plt.show()"
   ]
  },
  {
   "cell_type": "markdown",
   "metadata": {},
   "source": [
    "## Test the Encryption/Decryption Method"
   ]
  },
  {
   "cell_type": "code",
   "execution_count": 7,
   "metadata": {},
   "outputs": [],
   "source": [
    "H_enc = homomorphic_encryption(X_train,y_train)"
   ]
  },
  {
   "cell_type": "code",
   "execution_count": 8,
   "metadata": {},
   "outputs": [],
   "source": [
    "H_dec = homomorphic_decryption(H_enc[0],H_enc[1],H_enc[2],H_enc[3])"
   ]
  },
  {
   "cell_type": "code",
   "execution_count": 9,
   "metadata": {},
   "outputs": [
    {
     "data": {
      "text/plain": [
       "matrix([[ -5.27106137e-11]])"
      ]
     },
     "execution_count": 9,
     "metadata": {},
     "output_type": "execute_result"
    }
   ],
   "source": [
    "sum(H_dec[0] - X_train)"
   ]
  },
  {
   "cell_type": "code",
   "execution_count": 10,
   "metadata": {},
   "outputs": [
    {
     "data": {
      "text/plain": [
       "matrix([[ -5.76045878e-11,  -5.41193756e-11,  -4.97273334e-11,\n",
       "          -5.50193224e-11,  -5.35393951e-11,  -4.92619279e-11,\n",
       "          -4.83888485e-11,  -5.69588821e-11,  -5.73354697e-11,\n",
       "          -5.76685366e-11]])"
      ]
     },
     "execution_count": 10,
     "metadata": {},
     "output_type": "execute_result"
    }
   ],
   "source": [
    "sum(H_dec[1] - y_train)"
   ]
  },
  {
   "cell_type": "code",
   "execution_count": 11,
   "metadata": {},
   "outputs": [],
   "source": [
    "X_enc = H_enc[0]\n",
    "y_enc = H_enc[1]"
   ]
  },
  {
   "cell_type": "code",
   "execution_count": 12,
   "metadata": {},
   "outputs": [
    {
     "data": {
      "image/png": "[encoded data removed]",
      "text/plain": [
       "<matplotlib.figure.Figure at 0x10da89400>"
      ]
     },
     "metadata": {},
     "output_type": "display_data"
    }
   ],
   "source": [
    "plt.scatter(X_train.T.tolist()[0], y_train.T.tolist()[0], label=\"original\")\n",
    "plt.scatter(X_enc.T.tolist()[0], y_enc.T.tolist()[0], label=\"encrypted\")\n",
    "plt.title(\"Similarity between original and encrypted data\")\n",
    "plt.ylabel(\"X\")\n",
    "plt.ylabel(\"y\")\n",
    "plt.legend()\n",
    "plt.show()"
   ]
  },
  {
   "cell_type": "markdown",
   "metadata": {},
   "source": [
    "## Train Linear Regression"
   ]
  },
  {
   "cell_type": "code",
   "execution_count": 13,
   "metadata": {},
   "outputs": [],
   "source": [
    "def estimator_OLS(X,y):\n",
    "    β̂ = np.linalg.inv(X.T.dot(X)).dot(X.T).dot(y)\n",
    "    return β̂"
   ]
  },
  {
   "cell_type": "markdown",
   "metadata": {},
   "source": [
    "### Raw DATA"
   ]
  },
  {
   "cell_type": "code",
   "execution_count": 14,
   "metadata": {},
   "outputs": [
    {
     "data": {
      "text/plain": [
       "matrix([[ 1.01480733,  1.01550519,  1.01537264,  1.01525123,  1.0154638 ,\n",
       "          1.01428595,  1.01440845,  1.01487773,  1.01457909,  1.01419307]])"
      ]
     },
     "execution_count": 14,
     "metadata": {},
     "output_type": "execute_result"
    }
   ],
   "source": [
    "# Homemade estimator\n",
    "β̂_raw = estimator_OLS(X_train,y_train)\n",
    "β̂_raw"
   ]
  },
  {
   "cell_type": "code",
   "execution_count": 15,
   "metadata": {},
   "outputs": [
    {
     "data": {
      "text/plain": [
       "array([[ 0.9995548 ],\n",
       "       [ 1.00000548],\n",
       "       [ 1.00113166],\n",
       "       [ 1.00126738],\n",
       "       [ 0.99680338],\n",
       "       [ 0.9988939 ],\n",
       "       [ 0.99905567],\n",
       "       [ 0.99920334],\n",
       "       [ 0.99969016],\n",
       "       [ 0.99752783]])"
      ]
     },
     "execution_count": 15,
     "metadata": {},
     "output_type": "execute_result"
    }
   ],
   "source": [
    "# sklearn estimator\n",
    "regr = linear_model.LinearRegression()\n",
    "regr.fit(X_train, y_train)\n",
    "\n",
    "regr.coef_"
   ]
  },
  {
   "cell_type": "markdown",
   "metadata": {},
   "source": [
    "### Encrypted DATA"
   ]
  },
  {
   "cell_type": "code",
   "execution_count": 16,
   "metadata": {},
   "outputs": [
    {
     "data": {
      "text/plain": [
       "matrix([[ 1.94581855,  1.94715664,  1.94690249,  1.94666969,  1.94707729,\n",
       "          1.94481885,  1.94505372,  1.94595353,  1.94538091,  1.94464074]])"
      ]
     },
     "execution_count": 16,
     "metadata": {},
     "output_type": "execute_result"
    }
   ],
   "source": [
    "# Homemade estimator\n",
    "β̂_enc = estimator_OLS(X_enc,y_enc)\n",
    "β̂_enc"
   ]
  },
  {
   "cell_type": "code",
   "execution_count": 17,
   "metadata": {},
   "outputs": [
    {
     "data": {
      "text/plain": [
       "array([[ 1.94586303],\n",
       "       [ 1.94713815],\n",
       "       [ 1.94684296],\n",
       "       [ 1.94668539],\n",
       "       [ 1.9470491 ],\n",
       "       [ 1.94475618],\n",
       "       [ 1.94509686],\n",
       "       [ 1.94596118],\n",
       "       [ 1.94534838],\n",
       "       [ 1.9445998 ]])"
      ]
     },
     "execution_count": 17,
     "metadata": {},
     "output_type": "execute_result"
    }
   ],
   "source": [
    "# sklearn estimator\n",
    "regr_enc = linear_model.LinearRegression()\n",
    "regr_enc.fit(X_enc, y_enc)\n",
    "\n",
    "regr_enc.coef_"
   ]
  },
  {
   "cell_type": "markdown",
   "metadata": {},
   "source": [
    "### Compare models"
   ]
  },
  {
   "cell_type": "code",
   "execution_count": 18,
   "metadata": {},
   "outputs": [
    {
     "data": {
      "text/plain": [
       "-2.4424906541753444e-15"
      ]
     },
     "execution_count": 18,
     "metadata": {},
     "output_type": "execute_result"
    }
   ],
   "source": [
    "# Homemade estimator\n",
    "np.sum(H_enc[3].dot(β̂_enc) - β̂_raw)"
   ]
  },
  {
   "cell_type": "code",
   "execution_count": 19,
   "metadata": {},
   "outputs": [
    {
     "data": {
      "text/plain": [
       "0.15554236116832665"
      ]
     },
     "execution_count": 19,
     "metadata": {},
     "output_type": "execute_result"
    }
   ],
   "source": [
    "# sklearn estimator\n",
    "np.sum(H_enc[3]*regr_enc.coef_ - regr.coef_)"
   ]
  },
  {
   "cell_type": "markdown",
   "metadata": {},
   "source": [
    "## Prediction"
   ]
  },
  {
   "cell_type": "code",
   "execution_count": 20,
   "metadata": {},
   "outputs": [],
   "source": [
    "def predict(β̂,X):\n",
    "    return X.dot(β̂)\n",
    "\n",
    "def encrypt_input(X,U2):\n",
    "\n",
    "    U3 = np.diag(np.random.rand(1,X.shape[0])[0])\n",
    "    X_enc = U3.dot(X).dot(U2)\n",
    "    \n",
    "    return [X_enc,U3]"
   ]
  },
  {
   "cell_type": "markdown",
   "metadata": {},
   "source": [
    "### Prediction on Encrypted DATA"
   ]
  },
  {
   "cell_type": "code",
   "execution_count": 21,
   "metadata": {},
   "outputs": [
    {
     "name": "stdout",
     "output_type": "stream",
     "text": [
      "R2: -0.31028801636300657\n"
     ]
    }
   ],
   "source": [
    "H = encrypt_input(X_test,H_enc[3])\n",
    "\n",
    "y_pred_homo = predict(β̂_enc,H[0])\n",
    "print(f\"R2: {r2_score(y_test, y_pred_homo,multioutput='uniform_average')}\")"
   ]
  },
  {
   "cell_type": "code",
   "execution_count": 22,
   "metadata": {},
   "outputs": [
    {
     "data": {
      "image/png": "[encoded data removed]",
      "text/plain": [
       "<matplotlib.figure.Figure at 0x10da982b0>"
      ]
     },
     "metadata": {},
     "output_type": "display_data"
    }
   ],
   "source": [
    "plt.scatter(X_test.T.tolist()[0], y_test.T.tolist()[0], label=\"test\")\n",
    "plt.scatter(X_test.T.tolist()[0], y_pred_homo.T.tolist()[0], label=\"predict\")\n",
    "plt.ylabel(\"X\")\n",
    "plt.ylabel(\"y\")\n",
    "plt.legend()\n",
    "plt.show()"
   ]
  },
  {
   "cell_type": "markdown",
   "metadata": {},
   "source": [
    "### Decryption After Prediction"
   ]
  },
  {
   "cell_type": "code",
   "execution_count": 23,
   "metadata": {},
   "outputs": [
    {
     "name": "stdout",
     "output_type": "stream",
     "text": [
      "R2: 0.9993324172356829\n"
     ]
    }
   ],
   "source": [
    "y_pred_homo_dec = np.linalg.inv(H[1]).dot(y_pred_homo)\n",
    "print(f\"R2: {r2_score(y_test, y_pred_homo_dec,multioutput='uniform_average')}\")"
   ]
  },
  {
   "cell_type": "code",
   "execution_count": 24,
   "metadata": {},
   "outputs": [
    {
     "data": {
      "image/png": "[encoded data removed]",
      "text/plain": [
       "<matplotlib.figure.Figure at 0x10ef8a940>"
      ]
     },
     "metadata": {},
     "output_type": "display_data"
    }
   ],
   "source": [
    "plt.scatter(X_test.T.tolist()[0], y_test.T.tolist()[0], label=\"test\")\n",
    "plt.scatter(X_test.T.tolist()[0], y_pred_homo_dec.T.tolist()[0], label=\"predict\")\n",
    "plt.ylabel(\"X\") \n",
    "plt.ylabel(\"y\")\n",
    "plt.legend()\n",
    "plt.show()"
   ]
  }
 ],
 "metadata": {
  "kernelspec": {
   "display_name": "Python 3",
   "language": "python",
   "name": "python3"
  },
  "language_info": {
   "codemirror_mode": {
    "name": "ipython",
    "version": 3
   },
   "file_extension": ".py",
   "mimetype": "text/x-python",
   "name": "python",
   "nbconvert_exporter": "python",
   "pygments_lexer": "ipython3",
   "version": "3.6.0"
  }
 },
 "nbformat": 4,
 "nbformat_minor": 2
}
