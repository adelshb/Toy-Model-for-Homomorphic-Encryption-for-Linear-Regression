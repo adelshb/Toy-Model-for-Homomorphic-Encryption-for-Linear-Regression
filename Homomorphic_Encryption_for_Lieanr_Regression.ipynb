{
 "cells": [
  {
   "cell_type": "code",
   "execution_count": 1,
   "metadata": {
    "collapsed": true
   },
   "outputs": [],
   "source": [
    "import numpy as np\n",
    "import matplotlib.pyplot as plt\n",
    "from scipy.stats import ortho_group \n",
    "\n",
    "from sklearn.model_selection import train_test_split\n",
    "from sklearn.metrics import r2_score\n",
    "from sklearn import linear_model\n",
    "\n",
    "#np.random.seed(437) "
   ]
  },
  {
   "cell_type": "markdown",
   "metadata": {},
   "source": [
    "## Homomorphic Encryption"
   ]
  },
  {
   "cell_type": "code",
   "execution_count": 2,
   "metadata": {
    "collapsed": true
   },
   "outputs": [],
   "source": [
    "def homomorphic_encryption_train(X,y):\n",
    "    # U1 is an orthogonal matrix\n",
    "    U1 = ortho_group.rvs(dim=X.shape[0])\n",
    "    \n",
    "    # U2 is an invertible matrix\n",
    "    if X.shape[1] > 1:\n",
    "        U2 = ortho_group.rvs(dim=X.shape[1])\n",
    "    else:\n",
    "        U2 = np.random.rand(1,1)\n",
    "    \n",
    "    X_enc = U1.dot(X).dot(U2)\n",
    "    y_enc = U1.dot(y)\n",
    "    \n",
    "    return [X_enc,y_enc,U1,U2]"
   ]
  },
  {
   "cell_type": "code",
   "execution_count": 3,
   "metadata": {
    "collapsed": true
   },
   "outputs": [],
   "source": [
    "def homomorphic_decryption_train(X,y,U1,U2):\n",
    "    \n",
    "    X_dec = U1.T.dot(X).dot(np.linalg.inv(U2))\n",
    "    y_dec = U1.T.dot(y)\n",
    "    \n",
    "    return [X_dec,y_dec]"
   ]
  },
  {
   "cell_type": "code",
   "execution_count": 4,
   "metadata": {
    "collapsed": true
   },
   "outputs": [],
   "source": [
    "def homomorphic_encryption_test(X,U2):\n",
    "\n",
    "    # U3 is an invertible matrix\n",
    "    if X.shape[0] > 1:\n",
    "        U3 = ortho_group.rvs(dim=X.shape[0])\n",
    "    else:\n",
    "        U3 = np.random.rand(1,1)\n",
    "    #from IPython import embed; embed()\n",
    "    X_enc = U3.dot(X).dot(np.linalg.inv(U2))\n",
    "    \n",
    "    return [X_enc,U3]"
   ]
  },
  {
   "cell_type": "code",
   "execution_count": 5,
   "metadata": {
    "collapsed": true
   },
   "outputs": [],
   "source": [
    "def homomorphic_decryption_test(y_enc,U3):\n",
    "    \n",
    "    y_dec = np.linalg.inv(U3).T.dot(y)\n",
    "    \n",
    "    return y_dec"
   ]
  },
  {
   "cell_type": "markdown",
   "metadata": {},
   "source": [
    "## Generate Data"
   ]
  },
  {
   "cell_type": "code",
   "execution_count": 6,
   "metadata": {
    "collapsed": true
   },
   "outputs": [],
   "source": [
    "# m number of data points\n",
    "# n number of features\n",
    "m = 100\n",
    "n = 1"
   ]
  },
  {
   "cell_type": "code",
   "execution_count": 7,
   "metadata": {
    "collapsed": true
   },
   "outputs": [],
   "source": [
    "def generate_1d_dataset(m, n, factor=2.0):\n",
    "    X = np.matrix(np.expand_dims(np.arange(m), 1))\n",
    "    y = X + np.random.random((m, n)) * factor\n",
    "\n",
    "    return train_test_split(X, y, test_size=0.5, random_state=42)"
   ]
  },
  {
   "cell_type": "code",
   "execution_count": 8,
   "metadata": {
    "collapsed": false
   },
   "outputs": [
    {
     "data": {
      "image/png": "[encoded data removed]",
      "text/plain": [
       "<matplotlib.figure.Figure at 0x112a740f0>"
      ]
     },
     "metadata": {},
     "output_type": "display_data"
    }
   ],
   "source": [
    "X_train, X_test, y_train, y_test = generate_1d_dataset(m, n, factor=10.0)\n",
    "#X_train = np.array([[1,xi.item()] for xi in X_train])\n",
    "#X_test = np.array([[1,xi.item()] for xi in X_test])\n",
    "plt.scatter(X_train.T.tolist()[0], y_train.T.tolist()[0], label=\"train\")\n",
    "plt.scatter(X_test.T.tolist()[0], y_test.T.tolist()[0], label=\"test\")\n",
    "plt.ylabel(\"X\")\n",
    "plt.ylabel(\"y\")\n",
    "plt.legend()\n",
    "plt.show()"
   ]
  },
  {
   "cell_type": "markdown",
   "metadata": {},
   "source": [
    "## Test the Encryption/Decryption Method"
   ]
  },
  {
   "cell_type": "code",
   "execution_count": 9,
   "metadata": {
    "collapsed": false
   },
   "outputs": [],
   "source": [
    "H_enc = homomorphic_encryption_train(X_train,y_train)"
   ]
  },
  {
   "cell_type": "code",
   "execution_count": 10,
   "metadata": {
    "collapsed": true
   },
   "outputs": [],
   "source": [
    "H_dec = homomorphic_decryption_train(H_enc[0],H_enc[1],H_enc[2],H_enc[3])"
   ]
  },
  {
   "cell_type": "code",
   "execution_count": 11,
   "metadata": {
    "collapsed": false
   },
   "outputs": [
    {
     "data": {
      "text/plain": [
       "matrix([[5.71986902e-13]])"
      ]
     },
     "execution_count": 11,
     "metadata": {},
     "output_type": "execute_result"
    }
   ],
   "source": [
    "abs(sum(H_dec[0] - X_train))"
   ]
  },
  {
   "cell_type": "code",
   "execution_count": 12,
   "metadata": {
    "collapsed": false
   },
   "outputs": [
    {
     "data": {
      "text/plain": [
       "matrix([[6.6346928e-13]])"
      ]
     },
     "execution_count": 12,
     "metadata": {},
     "output_type": "execute_result"
    }
   ],
   "source": [
    "abs(sum(H_dec[1] - y_train))"
   ]
  },
  {
   "cell_type": "code",
   "execution_count": 13,
   "metadata": {
    "collapsed": true
   },
   "outputs": [],
   "source": [
    "X_enc = H_enc[0]\n",
    "y_enc = H_enc[1]"
   ]
  },
  {
   "cell_type": "code",
   "execution_count": 14,
   "metadata": {
    "collapsed": false
   },
   "outputs": [
    {
     "data": {
      "image/png": "[encoded data removed]",
      "text/plain": [
       "<matplotlib.figure.Figure at 0x112b42b70>"
      ]
     },
     "metadata": {},
     "output_type": "display_data"
    }
   ],
   "source": [
    "plt.scatter(X_train.T.tolist()[0], y_train.T.tolist()[0], label=\"original\")\n",
    "plt.scatter(X_enc.T.tolist()[0], y_enc.T.tolist()[0], label=\"encrypted\")\n",
    "plt.title(\"Similarity between original and encrypted data\")\n",
    "plt.ylabel(\"X\")\n",
    "plt.ylabel(\"y\")\n",
    "plt.legend()\n",
    "plt.show()"
   ]
  },
  {
   "cell_type": "markdown",
   "metadata": {},
   "source": [
    "## Train Linear Regression"
   ]
  },
  {
   "cell_type": "code",
   "execution_count": 15,
   "metadata": {
    "collapsed": true
   },
   "outputs": [],
   "source": [
    "def estimator_OLS(X,y):\n",
    "    X = np.array([[1,xi.item()] for xi in X])\n",
    "    β̂ = np.linalg.inv(X.T.dot(X)).dot(X.T).dot(y)\n",
    "    return β̂"
   ]
  },
  {
   "cell_type": "markdown",
   "metadata": {},
   "source": [
    "### Raw DATA"
   ]
  },
  {
   "cell_type": "code",
   "execution_count": 16,
   "metadata": {
    "collapsed": false
   },
   "outputs": [
    {
     "data": {
      "text/plain": [
       "matrix([[5.56981782],\n",
       "        [0.98769755]])"
      ]
     },
     "execution_count": 16,
     "metadata": {},
     "output_type": "execute_result"
    }
   ],
   "source": [
    "# Homemade estimator\n",
    "β̂_raw = estimator_OLS(X_train,y_train)\n",
    "β̂_raw"
   ]
  },
  {
   "cell_type": "code",
   "execution_count": 17,
   "metadata": {
    "collapsed": false
   },
   "outputs": [
    {
     "name": "stdout",
     "output_type": "stream",
     "text": [
      "5.569817820271503\n"
     ]
    },
    {
     "data": {
      "text/plain": [
       "0.987697547643952"
      ]
     },
     "execution_count": 17,
     "metadata": {},
     "output_type": "execute_result"
    }
   ],
   "source": [
    "# sklearn estimator\n",
    "regr = linear_model.LinearRegression(fit_intercept=True)\n",
    "regr.fit(X_train, y_train)\n",
    "\n",
    "print(regr.intercept_[0])\n",
    "regr.coef_[0][0]"
   ]
  },
  {
   "cell_type": "code",
   "execution_count": 18,
   "metadata": {
    "collapsed": false
   },
   "outputs": [
    {
     "data": {
      "image/png": "[encoded data removed]",
      "text/plain": [
       "<matplotlib.figure.Figure at 0x113059e10>"
      ]
     },
     "metadata": {},
     "output_type": "display_data"
    }
   ],
   "source": [
    "plt.scatter(X_train.T.tolist()[0], y_train.T.tolist()[0], label=\"train\")\n",
    "plt.plot([np.min(X_train), np.max(X_train)], [np.min(X_train)*β̂_raw[1].item() + β̂_raw[0].item(), np.max(X_train)*β̂_raw[1].item() + β̂_raw[0].item()], label=\"DIY Model\")\n",
    "plt.plot([np.min(X_train), np.max(X_train)], [np.min(X_train)*regr.coef_[0][0] + regr.intercept_[0], np.max(X_train)*regr.coef_[0][0] + regr.intercept_[0]], label=\"sklearn Model\")\n",
    "plt.ylabel(\"X\")\n",
    "plt.ylabel(\"y\")\n",
    "plt.legend()\n",
    "plt.show()"
   ]
  },
  {
   "cell_type": "markdown",
   "metadata": {},
   "source": [
    "### Encrypted DATA"
   ]
  },
  {
   "cell_type": "code",
   "execution_count": 19,
   "metadata": {
    "collapsed": false
   },
   "outputs": [
    {
     "data": {
      "text/plain": [
       "matrix([[-0.27238384],\n",
       "        [ 1.08171624]])"
      ]
     },
     "execution_count": 19,
     "metadata": {},
     "output_type": "execute_result"
    }
   ],
   "source": [
    "# Homemade estimator\n",
    "β̂_enc = estimator_OLS(X_enc,y_enc)\n",
    "β̂_enc"
   ]
  },
  {
   "cell_type": "code",
   "execution_count": 20,
   "metadata": {
    "collapsed": false
   },
   "outputs": [
    {
     "name": "stdout",
     "output_type": "stream",
     "text": [
      "-0.27238384343735245\n"
     ]
    },
    {
     "data": {
      "text/plain": [
       "1.0817162436757943"
      ]
     },
     "execution_count": 20,
     "metadata": {},
     "output_type": "execute_result"
    }
   ],
   "source": [
    "# sklearn estimator\n",
    "regr_enc = linear_model.LinearRegression(fit_intercept=True)\n",
    "regr_enc.fit(X_enc, y_enc)\n",
    "\n",
    "print(regr_enc.intercept_[0])\n",
    "regr_enc.coef_[0][0]"
   ]
  },
  {
   "cell_type": "code",
   "execution_count": 21,
   "metadata": {
    "collapsed": false
   },
   "outputs": [
    {
     "data": {
      "image/png": "[encoded data removed]",
      "text/plain": [
       "<matplotlib.figure.Figure at 0x1130bf358>"
      ]
     },
     "metadata": {},
     "output_type": "display_data"
    }
   ],
   "source": [
    "plt.scatter(X_enc.T.tolist()[0], y_enc.T[0], label=\"train-enc\")\n",
    "plt.plot([np.min(X_enc), np.max(X_enc)], [np.min(X_enc)*β̂_enc[1].item() + β̂_enc[0].item(), np.max(X_enc)*β̂_enc[1].item() + β̂_enc[0].item()], label=\"DIY Model\")\n",
    "plt.plot([np.min(X_enc), np.max(X_enc)], [np.min(X_enc)*regr_enc.coef_[0][0] + regr_enc.intercept_[0], np.max(X_enc)*regr_enc.coef_[0][0] + regr_enc.intercept_[0]], label=\"sklearn Model\")\n",
    "plt.ylabel(\"X\")\n",
    "plt.ylabel(\"y\")\n",
    "plt.legend()\n",
    "plt.show()"
   ]
  },
  {
   "cell_type": "markdown",
   "metadata": {},
   "source": [
    "## Prediction"
   ]
  },
  {
   "cell_type": "code",
   "execution_count": 22,
   "metadata": {
    "collapsed": true
   },
   "outputs": [],
   "source": [
    "def predict(β̂,X):\n",
    "    X = np.array([[1,xi.item()] for xi in X])\n",
    "    return X.dot(β̂)"
   ]
  },
  {
   "cell_type": "markdown",
   "metadata": {},
   "source": [
    "### Prediction on Encrypted DATA"
   ]
  },
  {
   "cell_type": "code",
   "execution_count": 23,
   "metadata": {
    "collapsed": false
   },
   "outputs": [
    {
     "name": "stdout",
     "output_type": "stream",
     "text": [
      "R2: -7.343997648444965\n"
     ]
    }
   ],
   "source": [
    "H = homomorphic_encryption_test(X_test,H_enc[3])\n",
    "\n",
    "y_pred_homo = predict(β̂_enc,H[0])\n",
    "print(f\"R2: {r2_score(y_test, y_pred_homo,multioutput='uniform_average')}\")"
   ]
  },
  {
   "cell_type": "code",
   "execution_count": 24,
   "metadata": {
    "collapsed": false
   },
   "outputs": [
    {
     "data": {
      "image/png": "[encoded data removed]",
      "text/plain": [
       "<matplotlib.figure.Figure at 0x112a85fd0>"
      ]
     },
     "metadata": {},
     "output_type": "display_data"
    }
   ],
   "source": [
    "plt.scatter(X_test.T.tolist()[0], y_test.T.tolist()[0], label=\"test\")\n",
    "plt.scatter(X_test.T.tolist()[0], y_pred_homo.T.tolist()[0], label=\"predict\")\n",
    "plt.ylabel(\"X\")\n",
    "plt.ylabel(\"y\")\n",
    "plt.legend()\n",
    "plt.show()"
   ]
  },
  {
   "cell_type": "markdown",
   "metadata": {},
   "source": [
    "### Decryption After Prediction"
   ]
  },
  {
   "cell_type": "code",
   "execution_count": 25,
   "metadata": {
    "collapsed": false
   },
   "outputs": [
    {
     "name": "stdout",
     "output_type": "stream",
     "text": [
      "R2: 0.985689534363202\n"
     ]
    }
   ],
   "source": [
    "y_pred_homo_dec = np.linalg.inv(H[1]).dot(y_pred_homo)\n",
    "print(f\"R2: {r2_score(y_test, y_pred_homo_dec,multioutput='uniform_average')}\")"
   ]
  },
  {
   "cell_type": "code",
   "execution_count": 26,
   "metadata": {
    "collapsed": false
   },
   "outputs": [
    {
     "data": {
      "image/png": "[encoded data removed]",
      "text/plain": [
       "<matplotlib.figure.Figure at 0x112a85ac8>"
      ]
     },
     "metadata": {},
     "output_type": "display_data"
    }
   ],
   "source": [
    "plt.scatter(X_test.T.tolist()[0], y_test.T.tolist()[0], label=\"test\")\n",
    "plt.scatter(X_test.T.tolist()[0], y_pred_homo_dec.T.tolist()[0], label=\"predict\")\n",
    "plt.ylabel(\"X\") \n",
    "plt.ylabel(\"y\")\n",
    "plt.legend()\n",
    "plt.show()"
   ]
  }
 ],
 "metadata": {
  "kernelspec": {
   "display_name": "Python 3",
   "language": "python",
   "name": "python3"
  },
  "language_info": {
   "codemirror_mode": {
    "name": "ipython",
    "version": 3
   },
   "file_extension": ".py",
   "mimetype": "text/x-python",
   "name": "python",
   "nbconvert_exporter": "python",
   "pygments_lexer": "ipython3",
   "version": "3.6.0"
  }
 },
 "nbformat": 4,
 "nbformat_minor": 2
}
