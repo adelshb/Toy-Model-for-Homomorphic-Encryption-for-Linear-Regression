{
 "cells": [
  {
   "cell_type": "code",
   "execution_count": 1,
   "metadata": {
    "collapsed": true
   },
   "outputs": [],
   "source": [
    "import numpy as np\n",
    "import matplotlib.pyplot as plt\n",
    "from scipy.stats import ortho_group \n",
    "\n",
    "from sklearn.model_selection import train_test_split\n",
    "from sklearn.metrics import r2_score\n",
    "from sklearn import linear_model\n",
    "\n",
    "#np.random.seed(437) "
   ]
  },
  {
   "cell_type": "code",
   "execution_count": 2,
   "metadata": {
    "collapsed": true
   },
   "outputs": [],
   "source": [
    "def plt_linefit(X,coef):\n",
    "    \n",
    "    idx = [np.argmin(X[:,1]), np.argmax(X[:,1])]  \n",
    "    minmax = [X[idx[0],:].dot(coef) , X[idx[1],:].dot(coef)]\n",
    "    return [x.item() for x in minmax]"
   ]
  },
  {
   "cell_type": "markdown",
   "metadata": {},
   "source": [
    "## Homomorphic Encryption"
   ]
  },
  {
   "cell_type": "code",
   "execution_count": 3,
   "metadata": {
    "collapsed": true
   },
   "outputs": [],
   "source": [
    "def homomorphic_encryption_train(X,y):\n",
    "    # U1 is an orthogonal matrix\n",
    "    U1 = ortho_group.rvs(dim=X.shape[0])\n",
    "    \n",
    "    # U2 is an invertible matrix\n",
    "    if X.shape[1] > 1:\n",
    "        U2 = ortho_group.rvs(dim=X.shape[1])\n",
    "    else:\n",
    "        U2 = np.random.rand(1,1)\n",
    "    \n",
    "    X_enc = U1.dot(X).dot(U2)\n",
    "    y_enc = U1.dot(y)\n",
    "    \n",
    "    return [X_enc,y_enc,U1,U2]"
   ]
  },
  {
   "cell_type": "code",
   "execution_count": 4,
   "metadata": {
    "collapsed": true
   },
   "outputs": [],
   "source": [
    "def homomorphic_decryption_train(X,y,U1,U2):\n",
    "    \n",
    "    X_dec = U1.T.dot(X).dot(np.linalg.inv(U2))\n",
    "    y_dec = U1.T.dot(y)\n",
    "    \n",
    "    return [X_dec,y_dec]"
   ]
  },
  {
   "cell_type": "code",
   "execution_count": 5,
   "metadata": {
    "collapsed": true
   },
   "outputs": [],
   "source": [
    "def homomorphic_encryption_test(X,U2):\n",
    "\n",
    "    # U3 is an invertible matrix\n",
    "    if X.shape[0] > 1:\n",
    "        U3 = ortho_group.rvs(dim=X.shape[0])\n",
    "    else:\n",
    "        U3 = np.random.rand(1,1)\n",
    "    #from IPython import embed; embed()\n",
    "    X_enc = U3.dot(X).dot(np.linalg.inv(U2))\n",
    "    \n",
    "    return [X_enc,U3]"
   ]
  },
  {
   "cell_type": "code",
   "execution_count": 6,
   "metadata": {
    "collapsed": true
   },
   "outputs": [],
   "source": [
    "def homomorphic_decryption_test(y_enc,U3):\n",
    "    \n",
    "    y_dec = np.linalg.inv(U3).dot(y_enc)\n",
    "    \n",
    "    return y_dec"
   ]
  },
  {
   "cell_type": "markdown",
   "metadata": {},
   "source": [
    "## Generate Data"
   ]
  },
  {
   "cell_type": "code",
   "execution_count": 7,
   "metadata": {
    "collapsed": true
   },
   "outputs": [],
   "source": [
    "# m number of data points\n",
    "# n number of features\n",
    "m = 200\n",
    "n = 1"
   ]
  },
  {
   "cell_type": "code",
   "execution_count": 8,
   "metadata": {
    "collapsed": true
   },
   "outputs": [],
   "source": [
    "def generate_1d_dataset(m, n, factor=2.0):\n",
    "    X = np.matrix(np.expand_dims(np.arange(m), 1))\n",
    "    y = X + np.random.random((m, n)) * factor\n",
    "\n",
    "    return train_test_split(X, y, test_size=0.5, random_state=42)"
   ]
  },
  {
   "cell_type": "code",
   "execution_count": 9,
   "metadata": {
    "collapsed": false
   },
   "outputs": [
    {
     "data": {
      "image/png": "[encoded data removed]",
      "text/plain": [
       "<matplotlib.figure.Figure at 0x10ae12908>"
      ]
     },
     "metadata": {},
     "output_type": "display_data"
    }
   ],
   "source": [
    "X_train, X_test, y_train, y_test = generate_1d_dataset(m, n, factor=10.0)\n",
    "X_train = np.array([[1,xi.item()] for xi in X_train])\n",
    "X_test = np.array([[1,xi.item()] for xi in X_test])\n",
    "plt.scatter(X_train.T.tolist()[1], y_train.T.tolist()[0], label=\"train\")\n",
    "plt.scatter(X_test.T.tolist()[1], y_test.T.tolist()[0], label=\"test\")\n",
    "plt.ylabel(\"X\")\n",
    "plt.ylabel(\"y\")\n",
    "plt.legend()\n",
    "plt.show()"
   ]
  },
  {
   "cell_type": "markdown",
   "metadata": {},
   "source": [
    "## Test the Encryption/Decryption Method"
   ]
  },
  {
   "cell_type": "code",
   "execution_count": 10,
   "metadata": {
    "collapsed": false
   },
   "outputs": [],
   "source": [
    "H_enc = homomorphic_encryption_train(X_train,y_train)"
   ]
  },
  {
   "cell_type": "code",
   "execution_count": 11,
   "metadata": {
    "collapsed": true
   },
   "outputs": [],
   "source": [
    "H_dec = homomorphic_decryption_train(H_enc[0],H_enc[1],H_enc[2],H_enc[3])"
   ]
  },
  {
   "cell_type": "code",
   "execution_count": 12,
   "metadata": {
    "collapsed": true
   },
   "outputs": [],
   "source": [
    "X_enc = H_enc[0]\n",
    "y_enc = H_enc[1]"
   ]
  },
  {
   "cell_type": "code",
   "execution_count": 13,
   "metadata": {
    "collapsed": false
   },
   "outputs": [
    {
     "data": {
      "image/png": "[encoded data removed]",
      "text/plain": [
       "<matplotlib.figure.Figure at 0x10ae12240>"
      ]
     },
     "metadata": {},
     "output_type": "display_data"
    }
   ],
   "source": [
    "plt.scatter(X_train.T.tolist()[1], y_train.T.tolist()[0], label=\"original\")\n",
    "plt.scatter(X_enc.T.tolist()[1], y_enc.T.tolist()[0], label=\"encrypted\")\n",
    "plt.title(\"Similarity between original and encrypted data\")\n",
    "plt.ylabel(\"X\")\n",
    "plt.ylabel(\"y\")\n",
    "plt.legend()\n",
    "plt.show()"
   ]
  },
  {
   "cell_type": "markdown",
   "metadata": {},
   "source": [
    "## Train Linear Regression"
   ]
  },
  {
   "cell_type": "code",
   "execution_count": 14,
   "metadata": {
    "collapsed": true
   },
   "outputs": [],
   "source": [
    "def estimator_OLS(X,y):\n",
    "    β̂ = np.linalg.inv(X.T.dot(X)).dot(X.T).dot(y)\n",
    "    return β̂"
   ]
  },
  {
   "cell_type": "markdown",
   "metadata": {},
   "source": [
    "### Raw DATA"
   ]
  },
  {
   "cell_type": "code",
   "execution_count": 15,
   "metadata": {
    "collapsed": false
   },
   "outputs": [
    {
     "data": {
      "text/plain": [
       "matrix([[5.68659376],\n",
       "        [0.99368814]])"
      ]
     },
     "execution_count": 15,
     "metadata": {},
     "output_type": "execute_result"
    }
   ],
   "source": [
    "# Homemade estimator\n",
    "β̂_raw = estimator_OLS(X_train,y_train)\n",
    "β̂_raw"
   ]
  },
  {
   "cell_type": "code",
   "execution_count": 16,
   "metadata": {
    "collapsed": false
   },
   "outputs": [
    {
     "data": {
      "text/plain": [
       "array([5.68659376, 0.99368814])"
      ]
     },
     "execution_count": 16,
     "metadata": {},
     "output_type": "execute_result"
    }
   ],
   "source": [
    "# sklearn estimator\n",
    "regr = linear_model.LinearRegression(fit_intercept=False)\n",
    "regr.fit(X_train, y_train)\n",
    "\n",
    "#print(regr.intercept_[0])\n",
    "regr.coef_[0]"
   ]
  },
  {
   "cell_type": "code",
   "execution_count": 17,
   "metadata": {
    "collapsed": false
   },
   "outputs": [
    {
     "data": {
      "image/png": "[encoded data removed]",
      "text/plain": [
       "<matplotlib.figure.Figure at 0x10aed8a20>"
      ]
     },
     "metadata": {},
     "output_type": "display_data"
    }
   ],
   "source": [
    "plt.scatter(X_train.T.tolist()[1], y_train.T.tolist()[0], label=\"train\")\n",
    "plt.plot([np.min(X_train[:,1]), np.max(X_train[:,1])], plt_linefit(X_train,β̂_raw), label=\"DIY Model\")\n",
    "plt.plot([np.min(X_train[:,1]), np.max(X_train[:,1])], plt_linefit(X_train,regr.coef_[0]), label=\"sklearn Model\")\n",
    "plt.ylabel(\"X\")\n",
    "plt.ylabel(\"y\")\n",
    "plt.legend()\n",
    "plt.show()"
   ]
  },
  {
   "cell_type": "markdown",
   "metadata": {},
   "source": [
    "### Encrypted DATA"
   ]
  },
  {
   "cell_type": "code",
   "execution_count": 18,
   "metadata": {
    "collapsed": false
   },
   "outputs": [
    {
     "data": {
      "text/plain": [
       "matrix([[ 5.17845867],\n",
       "        [-2.55114297]])"
      ]
     },
     "execution_count": 18,
     "metadata": {},
     "output_type": "execute_result"
    }
   ],
   "source": [
    "# Homemade estimator\n",
    "β̂_enc = estimator_OLS(X_enc,y_enc)\n",
    "β̂_enc"
   ]
  },
  {
   "cell_type": "code",
   "execution_count": 19,
   "metadata": {
    "collapsed": false
   },
   "outputs": [
    {
     "data": {
      "text/plain": [
       "array([ 5.17845867, -2.55114297])"
      ]
     },
     "execution_count": 19,
     "metadata": {},
     "output_type": "execute_result"
    }
   ],
   "source": [
    "# sklearn estimator\n",
    "regr_enc = linear_model.LinearRegression(fit_intercept=False)\n",
    "regr_enc.fit(X_enc, y_enc)\n",
    "\n",
    "regr_enc.coef_[0]"
   ]
  },
  {
   "cell_type": "code",
   "execution_count": 20,
   "metadata": {
    "collapsed": false
   },
   "outputs": [
    {
     "data": {
      "image/png": "[encoded data removed]",
      "text/plain": [
       "<matplotlib.figure.Figure at 0x10bc11198>"
      ]
     },
     "metadata": {},
     "output_type": "display_data"
    }
   ],
   "source": [
    "plt.scatter(X_enc.T.tolist()[1], y_enc.T[0], label=\"train-enc\")\n",
    "plt.plot([np.min(X_enc[:,1]), np.max(X_enc[:,1])], plt_linefit(X_enc,β̂_enc), label=\"DIY Model\")\n",
    "plt.plot([np.min(X_enc[:,1]), np.max(X_enc[:,1])], plt_linefit(X_enc,regr_enc.coef_[0]), label=\"sklearn Model\")\n",
    "plt.ylabel(\"X\")\n",
    "plt.ylabel(\"y\")\n",
    "plt.legend()\n",
    "plt.show()"
   ]
  },
  {
   "cell_type": "markdown",
   "metadata": {},
   "source": [
    "## Prediction"
   ]
  },
  {
   "cell_type": "code",
   "execution_count": 21,
   "metadata": {
    "collapsed": true
   },
   "outputs": [],
   "source": [
    "def predict(β̂,X):\n",
    "    return X.dot(β̂)"
   ]
  },
  {
   "cell_type": "markdown",
   "metadata": {},
   "source": [
    "### Prediction on Raw DATA"
   ]
  },
  {
   "cell_type": "code",
   "execution_count": 22,
   "metadata": {
    "collapsed": false
   },
   "outputs": [
    {
     "name": "stdout",
     "output_type": "stream",
     "text": [
      "R2: 0.9977056550404017\n"
     ]
    }
   ],
   "source": [
    "y_test_raw = predict(β̂_raw,X_test)\n",
    "print(f\"R2: {r2_score(y_test, y_test_raw,multioutput='uniform_average')}\")"
   ]
  },
  {
   "cell_type": "code",
   "execution_count": 23,
   "metadata": {
    "collapsed": false
   },
   "outputs": [
    {
     "data": {
      "image/png": "[encoded data removed]",
      "text/plain": [
       "<matplotlib.figure.Figure at 0x10f16b710>"
      ]
     },
     "metadata": {},
     "output_type": "display_data"
    }
   ],
   "source": [
    "plt.scatter(X_test.T.tolist()[1], y_test.T.tolist()[0], label=\"test\")\n",
    "plt.scatter(X_test.T.tolist()[1], y_test_raw.T.tolist()[0], label=\"predict\")\n",
    "plt.ylabel(\"X\")\n",
    "plt.ylabel(\"y\")\n",
    "plt.legend()\n",
    "plt.show()"
   ]
  },
  {
   "cell_type": "markdown",
   "metadata": {},
   "source": [
    "### Prediction on Encrypted DATA"
   ]
  },
  {
   "cell_type": "code",
   "execution_count": 24,
   "metadata": {
    "collapsed": false
   },
   "outputs": [
    {
     "name": "stdout",
     "output_type": "stream",
     "text": [
      "R2: -6.126642437288175\n"
     ]
    }
   ],
   "source": [
    "H = homomorphic_encryption_test(X_test,H_enc[3])\n",
    "\n",
    "y_pred_homo = predict(β̂_enc,H[0])\n",
    "\n",
    "#print(f\"R2: {r2_score(X_test, np.linalg.inv(H[1]).dot(H[0]),multioutput='uniform_average')}\")\n",
    "print(f\"R2: {r2_score(y_test, y_pred_homo,multioutput='uniform_average')}\")"
   ]
  },
  {
   "cell_type": "code",
   "execution_count": 25,
   "metadata": {
    "collapsed": false
   },
   "outputs": [
    {
     "data": {
      "image/png": "[encoded data removed]",
      "text/plain": [
       "<matplotlib.figure.Figure at 0x10f271400>"
      ]
     },
     "metadata": {},
     "output_type": "display_data"
    }
   ],
   "source": [
    "plt.scatter(X_test.T.tolist()[1], y_test.T.tolist()[0], label=\"test\")\n",
    "plt.scatter(X_test.T.tolist()[1], y_pred_homo.T.tolist()[0], label=\"predict\")\n",
    "plt.ylabel(\"X\")\n",
    "plt.ylabel(\"y\")\n",
    "plt.legend()\n",
    "plt.show()"
   ]
  },
  {
   "cell_type": "markdown",
   "metadata": {},
   "source": [
    "### Decryption After Prediction"
   ]
  },
  {
   "cell_type": "code",
   "execution_count": 26,
   "metadata": {
    "collapsed": false
   },
   "outputs": [
    {
     "name": "stdout",
     "output_type": "stream",
     "text": [
      "R2: 0.9977056550404086\n"
     ]
    }
   ],
   "source": [
    "#y_pred_homo_dec = np.linalg.inv(H[1]).dot(y_pred_homo)\n",
    "y_pred_homo_dec = homomorphic_decryption_test(y_pred_homo,H[1])\n",
    "print(f\"R2: {r2_score(y_test, y_pred_homo_dec,multioutput='uniform_average')}\")"
   ]
  },
  {
   "cell_type": "code",
   "execution_count": 27,
   "metadata": {
    "collapsed": false
   },
   "outputs": [
    {
     "data": {
      "image/png": "[encoded data removed]",
      "text/plain": [
       "<matplotlib.figure.Figure at 0x10efe6c50>"
      ]
     },
     "metadata": {},
     "output_type": "display_data"
    }
   ],
   "source": [
    "plt.scatter(X_test.T.tolist()[1], y_test.T.tolist()[0], label=\"test\")\n",
    "plt.scatter(X_test.T.tolist()[1], y_pred_homo_dec.T.tolist()[0], label=\"predict\")\n",
    "plt.ylabel(\"X\") \n",
    "plt.ylabel(\"y\")\n",
    "plt.legend()\n",
    "plt.show()"
   ]
  },
  {
   "cell_type": "code",
   "execution_count": null,
   "metadata": {
    "collapsed": true
   },
   "outputs": [],
   "source": []
  }
 ],
 "metadata": {
  "kernelspec": {
   "display_name": "Python 3",
   "language": "python",
   "name": "python3"
  },
  "language_info": {
   "codemirror_mode": {
    "name": "ipython",
    "version": 3
   },
   "file_extension": ".py",
   "mimetype": "text/x-python",
   "name": "python",
   "nbconvert_exporter": "python",
   "pygments_lexer": "ipython3",
   "version": "3.6.0"
  }
 },
 "nbformat": 4,
 "nbformat_minor": 2
}
